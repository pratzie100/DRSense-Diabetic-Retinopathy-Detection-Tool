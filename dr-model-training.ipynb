{
 "cells": [
  {
   "cell_type": "code",
   "execution_count": 14,
   "metadata": {
    "execution": {
     "iopub.execute_input": "2025-05-02T13:33:18.419581Z",
     "iopub.status.busy": "2025-05-02T13:33:18.419292Z",
     "iopub.status.idle": "2025-05-02T13:33:18.424138Z",
     "shell.execute_reply": "2025-05-02T13:33:18.423551Z",
     "shell.execute_reply.started": "2025-05-02T13:33:18.419559Z"
    }
   },
   "outputs": [],
   "source": [
    "import os\n",
    "import logging\n",
    "# Suppress TensorFlow and XLA logs\n",
    "# Suppress TensorFlow warnings before compiling\n",
    "os.environ['TF_ENABLE_ONEDNN_OPTS'] = '0'\n",
    "os.environ['TF_CPP_MIN_LOG_LEVEL']= '3'  # Suppress TF warnings\n",
    "os.environ['TF_XLA_FLAGS'] = '--tf_xla_auto_jit=0'  # Disable XLA auto-jit to reduce logs\n",
    "logging.getLogger('absl').setLevel(logging.ERROR)\n",
    "logging.getLogger('tensorflow').setLevel(logging.ERROR)  # Only show ERROR logs"
   ]
  },
  {
   "cell_type": "code",
   "execution_count": 24,
   "metadata": {
    "execution": {
     "iopub.execute_input": "2025-05-02T13:51:32.993965Z",
     "iopub.status.busy": "2025-05-02T13:51:32.993594Z",
     "iopub.status.idle": "2025-05-02T13:51:32.999335Z",
     "shell.execute_reply": "2025-05-02T13:51:32.998580Z",
     "shell.execute_reply.started": "2025-05-02T13:51:32.993944Z"
    }
   },
   "outputs": [],
   "source": [
    "import os\n",
    "import numpy as np\n",
    "import pandas as pd\n",
    "import matplotlib.pyplot as plt\n",
    "import seaborn as sns\n",
    "from sklearn.metrics import accuracy_score, precision_score, recall_score, f1_score, classification_report, confusion_matrix\n",
    "from tensorflow.keras.applications import DenseNet121\n",
    "from tensorflow.keras.models import Sequential\n",
    "from sklearn.utils import class_weight\n",
    "from tensorflow.keras.layers import Dense, Dropout, GlobalAveragePooling2D, BatchNormalization\n",
    "from tensorflow.keras.optimizers import Adam\n",
    "from tensorflow.keras.preprocessing.image import ImageDataGenerator\n",
    "from tensorflow.keras.regularizers import l2\n",
    "from tensorflow.keras.callbacks import ReduceLROnPlateau, EarlyStopping\n",
    "from tensorflow.keras.models import load_model"
   ]
  },
  {
   "cell_type": "code",
   "execution_count": 7,
   "metadata": {
    "execution": {
     "iopub.execute_input": "2025-05-02T13:27:42.479524Z",
     "iopub.status.busy": "2025-05-02T13:27:42.478932Z",
     "iopub.status.idle": "2025-05-02T13:27:42.490325Z",
     "shell.execute_reply": "2025-05-02T13:27:42.489596Z",
     "shell.execute_reply.started": "2025-05-02T13:27:42.479502Z"
    }
   },
   "outputs": [],
   "source": [
    "# Load the training and testing CSV files\n",
    "train_csv = pd.read_csv('/kaggle/input/fundus-data/training_data.csv')\n",
    "test_csv = pd.read_csv('/kaggle/input/fundus-data/testing_data.csv')"
   ]
  },
  {
   "cell_type": "code",
   "execution_count": 8,
   "metadata": {
    "execution": {
     "iopub.execute_input": "2025-05-02T13:27:44.229851Z",
     "iopub.status.busy": "2025-05-02T13:27:44.229104Z",
     "iopub.status.idle": "2025-05-02T13:27:44.233546Z",
     "shell.execute_reply": "2025-05-02T13:27:44.232908Z",
     "shell.execute_reply.started": "2025-05-02T13:27:44.229827Z"
    }
   },
   "outputs": [],
   "source": [
    "# Extract labels\n",
    "y_train = train_csv['diagnosis']\n",
    "y_val = test_csv['diagnosis']"
   ]
  },
  {
   "cell_type": "code",
   "execution_count": 9,
   "metadata": {
    "execution": {
     "iopub.execute_input": "2025-05-02T13:27:45.548950Z",
     "iopub.status.busy": "2025-05-02T13:27:45.548694Z",
     "iopub.status.idle": "2025-05-02T13:28:09.029370Z",
     "shell.execute_reply": "2025-05-02T13:28:09.028773Z",
     "shell.execute_reply.started": "2025-05-02T13:27:45.548932Z"
    }
   },
   "outputs": [],
   "source": [
    "# Load preprocessed arrays\n",
    "X_train_preprocessed = np.load('/kaggle/input/fundus-data/X_train_preprocessed.npy')\n",
    "X_val_preprocessed = np.load('/kaggle/input/fundus-data/X_val_preprocessed.npy')"
   ]
  },
  {
   "cell_type": "code",
   "execution_count": 10,
   "metadata": {
    "execution": {
     "iopub.execute_input": "2025-05-02T13:28:09.030577Z",
     "iopub.status.busy": "2025-05-02T13:28:09.030337Z",
     "iopub.status.idle": "2025-05-02T13:28:09.035262Z",
     "shell.execute_reply": "2025-05-02T13:28:09.034648Z",
     "shell.execute_reply.started": "2025-05-02T13:28:09.030552Z"
    }
   },
   "outputs": [
    {
     "name": "stdout",
     "output_type": "stream",
     "text": [
      "Training data shape: (3295, 224, 224, 3)\n",
      "Validation data shape: (367, 224, 224, 3)\n",
      "Training labels shape: (3295,)\n",
      "Validation labels shape: (367,)\n"
     ]
    }
   ],
   "source": [
    "# Verify shapes\n",
    "print(f\"Training data shape: {X_train_preprocessed.shape}\")\n",
    "print(f\"Validation data shape: {X_val_preprocessed.shape}\")\n",
    "print(f\"Training labels shape: {y_train.shape}\")\n",
    "print(f\"Validation labels shape: {y_val.shape}\")"
   ]
  },
  {
   "cell_type": "markdown",
   "metadata": {},
   "source": [
    "## Model training "
   ]
  },
  {
   "cell_type": "code",
   "execution_count": 15,
   "metadata": {
    "execution": {
     "iopub.execute_input": "2025-05-02T13:33:32.914767Z",
     "iopub.status.busy": "2025-05-02T13:33:32.914070Z",
     "iopub.status.idle": "2025-05-02T13:41:21.338569Z",
     "shell.execute_reply": "2025-05-02T13:41:21.337230Z",
     "shell.execute_reply.started": "2025-05-02T13:33:32.914745Z"
    }
   },
   "outputs": [
    {
     "name": "stdout",
     "output_type": "stream",
     "text": [
      "Epoch 1/10\n",
      "\u001b[1m103/103\u001b[0m \u001b[32m━━━━━━━━━━━━━━━━━━━━\u001b[0m\u001b[37m\u001b[0m \u001b[1m305s\u001b[0m 1s/step - accuracy: 0.5578 - loss: 1.2395 - val_accuracy: 0.6839 - val_loss: 0.9714 - learning_rate: 1.0000e-04\n",
      "Epoch 2/10\n",
      "\u001b[1m103/103\u001b[0m \u001b[32m━━━━━━━━━━━━━━━━━━━━\u001b[0m\u001b[37m\u001b[0m \u001b[1m18s\u001b[0m 170ms/step - accuracy: 0.7692 - loss: 0.5881 - val_accuracy: 0.7575 - val_loss: 0.7111 - learning_rate: 1.0000e-04\n",
      "Epoch 3/10\n",
      "\u001b[1m103/103\u001b[0m \u001b[32m━━━━━━━━━━━━━━━━━━━━\u001b[0m\u001b[37m\u001b[0m \u001b[1m17s\u001b[0m 169ms/step - accuracy: 0.8248 - loss: 0.4659 - val_accuracy: 0.8147 - val_loss: 0.5444 - learning_rate: 1.0000e-04\n",
      "Epoch 4/10\n",
      "\u001b[1m103/103\u001b[0m \u001b[32m━━━━━━━━━━━━━━━━━━━━\u001b[0m\u001b[37m\u001b[0m \u001b[1m18s\u001b[0m 170ms/step - accuracy: 0.8538 - loss: 0.4066 - val_accuracy: 0.8283 - val_loss: 0.4790 - learning_rate: 1.0000e-04\n",
      "Epoch 5/10\n",
      "\u001b[1m103/103\u001b[0m \u001b[32m━━━━━━━━━━━━━━━━━━━━\u001b[0m\u001b[37m\u001b[0m \u001b[1m17s\u001b[0m 167ms/step - accuracy: 0.9006 - loss: 0.2728 - val_accuracy: 0.8283 - val_loss: 0.5589 - learning_rate: 1.0000e-04\n",
      "Epoch 6/10\n",
      "\u001b[1m103/103\u001b[0m \u001b[32m━━━━━━━━━━━━━━━━━━━━\u001b[0m\u001b[37m\u001b[0m \u001b[1m17s\u001b[0m 167ms/step - accuracy: 0.9339 - loss: 0.2041 - val_accuracy: 0.7929 - val_loss: 0.6608 - learning_rate: 1.0000e-04\n",
      "Epoch 7/10\n",
      "\u001b[1m103/103\u001b[0m \u001b[32m━━━━━━━━━━━━━━━━━━━━\u001b[0m\u001b[37m\u001b[0m \u001b[1m17s\u001b[0m 168ms/step - accuracy: 0.9356 - loss: 0.1782 - val_accuracy: 0.8202 - val_loss: 0.7749 - learning_rate: 1.0000e-04\n",
      "Epoch 8/10\n",
      "\u001b[1m103/103\u001b[0m \u001b[32m━━━━━━━━━━━━━━━━━━━━\u001b[0m\u001b[37m\u001b[0m \u001b[1m17s\u001b[0m 167ms/step - accuracy: 0.9628 - loss: 0.1076 - val_accuracy: 0.7657 - val_loss: 0.8020 - learning_rate: 1.0000e-04\n",
      "Epoch 9/10\n",
      "\u001b[1m103/103\u001b[0m \u001b[32m━━━━━━━━━━━━━━━━━━━━\u001b[0m\u001b[37m\u001b[0m \u001b[1m17s\u001b[0m 167ms/step - accuracy: 0.9687 - loss: 0.1046 - val_accuracy: 0.8120 - val_loss: 0.7358 - learning_rate: 3.0000e-05\n",
      "Epoch 10/10\n",
      "\u001b[1m103/103\u001b[0m \u001b[32m━━━━━━━━━━━━━━━━━━━━\u001b[0m\u001b[37m\u001b[0m \u001b[1m17s\u001b[0m 167ms/step - accuracy: 0.9858 - loss: 0.0549 - val_accuracy: 0.8256 - val_loss: 0.7518 - learning_rate: 3.0000e-05\n"
     ]
    }
   ],
   "source": [
    "# Callbacks\n",
    "reduce_lr = ReduceLROnPlateau(monitor='val_accuracy', factor=0.3, patience=4, min_lr=1e-7, mode='max')\n",
    "early_stopping = EarlyStopping(monitor='val_accuracy', patience=12, restore_best_weights=True, mode='max')\n",
    "\n",
    "# Load DenseNet121 without the top classification layer\n",
    "densenet_model = DenseNet121(weights='imagenet', include_top=False, input_shape=(224, 224, 3))\n",
    "\n",
    "# Unfreeze slightly more top layers of DenseNet while keeping the bottom frozen\n",
    "for layer in densenet_model.layers[-30:]:\n",
    "    layer.trainable = True\n",
    "\n",
    "# Create a Sequential model with the DenseNet base\n",
    "densenet_hybrid_model = Sequential([\n",
    "    densenet_model,\n",
    "    GlobalAveragePooling2D(),\n",
    "    Dense(256, activation='relu'),\n",
    "    Dropout(0.7),  # Slightly increased dropout to reduce overfitting\n",
    "    Dense(5, activation='softmax')  # Output layer for classification\n",
    "])\n",
    "\n",
    "# Compile the model with a slightly lower learning rate\n",
    "optimizer = Adam(learning_rate=1e-4)  # Reduced learning rate for finer adjustments\n",
    "densenet_hybrid_model.compile(optimizer=optimizer,\n",
    "                              loss='sparse_categorical_crossentropy',\n",
    "                              metrics=['accuracy'])\n",
    "\n",
    "# Train the model\n",
    "history_densenet = densenet_hybrid_model.fit(\n",
    "    X_train_preprocessed, y_train,\n",
    "    validation_data=(X_val_preprocessed, y_val),\n",
    "    epochs=10, \n",
    "    batch_size=32,\n",
    "    callbacks=[reduce_lr, early_stopping]\n",
    ")\n"
   ]
  },
  {
   "cell_type": "code",
   "execution_count": 30,
   "metadata": {
    "execution": {
     "iopub.execute_input": "2025-05-02T13:58:52.983679Z",
     "iopub.status.busy": "2025-05-02T13:58:52.983003Z",
     "iopub.status.idle": "2025-05-02T13:58:53.181338Z",
     "shell.execute_reply": "2025-05-02T13:58:53.180661Z",
     "shell.execute_reply.started": "2025-05-02T13:58:52.983657Z"
    }
   },
   "outputs": [
    {
     "data": {
      "image/png": "[encoded data removed]",
      "text/plain": [
       "<Figure size 1200x500 with 1 Axes>"
      ]
     },
     "metadata": {},
     "output_type": "display_data"
    }
   ],
   "source": [
    "# Plotting training and validation accuracy and loss\n",
    "plt.figure(figsize=(12, 5))\n",
    "\n",
    "# Plotting training and validation accuracy\n",
    "plt.subplot(1, 2, 1)\n",
    "plt.plot(history_densenet.history['accuracy'], label='Training Accuracy')\n",
    "plt.plot(history_densenet.history['val_accuracy'], label='Validation Accuracy')\n",
    "plt.title('Accuracy')\n",
    "plt.xlabel('Epoch')\n",
    "plt.ylabel('Accuracy')\n",
    "plt.legend()\n",
    "\n",
    "plt.tight_layout()\n",
    "plt.show()\n"
   ]
  },
  {
   "cell_type": "code",
   "execution_count": 20,
   "metadata": {
    "execution": {
     "iopub.execute_input": "2025-05-02T13:44:14.533829Z",
     "iopub.status.busy": "2025-05-02T13:44:14.533210Z",
     "iopub.status.idle": "2025-05-02T13:44:39.039530Z",
     "shell.execute_reply": "2025-05-02T13:44:39.038662Z",
     "shell.execute_reply.started": "2025-05-02T13:44:14.533802Z"
    }
   },
   "outputs": [
    {
     "name": "stdout",
     "output_type": "stream",
     "text": [
      "\u001b[1m12/12\u001b[0m \u001b[32m━━━━━━━━━━━━━━━━━━━━\u001b[0m\u001b[37m\u001b[0m \u001b[1m24s\u001b[0m 1s/step\n",
      "\n",
      "Classification Report on Validation Set:\n",
      "\n",
      "              precision    recall  f1-score   support\n",
      "\n",
      "           0       0.95      0.98      0.97       181\n",
      "           1       0.63      0.59      0.61        37\n",
      "           2       0.73      0.85      0.79       100\n",
      "           3       0.53      0.42      0.47        19\n",
      "           4       0.79      0.37      0.50        30\n",
      "\n",
      "    accuracy                           0.83       367\n",
      "   macro avg       0.73      0.64      0.67       367\n",
      "weighted avg       0.82      0.83      0.82       367\n",
      "\n",
      "Validation Accuracy: 0.8283\n",
      "Validation Precision (Macro): 0.7264\n",
      "Validation Recall (Macro): 0.6431\n",
      "Validation F1 Score (Macro): 0.6672\n"
     ]
    }
   ],
   "source": [
    "# Evaluation on validation set\n",
    "y_val_pred_probs = densenet_hybrid_model.predict(X_val_preprocessed)\n",
    "y_val_preds = np.argmax(y_val_pred_probs, axis=1)\n",
    "\n",
    "print(\"\\nClassification Report on Validation Set:\\n\")\n",
    "print(classification_report(y_val, y_val_preds))\n",
    "\n",
    "val_accuracy = accuracy_score(y_val, y_val_preds)\n",
    "val_precision = precision_score(y_val, y_val_preds, average='macro')\n",
    "val_recall = recall_score(y_val, y_val_preds, average='macro')\n",
    "val_f1 = f1_score(y_val, y_val_preds, average='macro')\n",
    "\n",
    "print(f\"Validation Accuracy: {val_accuracy:.4f}\")\n",
    "print(f\"Validation Precision (Macro): {val_precision:.4f}\")\n",
    "print(f\"Validation Recall (Macro): {val_recall:.4f}\")\n",
    "print(f\"Validation F1 Score (Macro): {val_f1:.4f}\")\n"
   ]
  },
  {
   "cell_type": "code",
   "execution_count": 23,
   "metadata": {
    "execution": {
     "iopub.execute_input": "2025-05-02T13:45:48.293440Z",
     "iopub.status.busy": "2025-05-02T13:45:48.293138Z",
     "iopub.status.idle": "2025-05-02T13:45:48.520979Z",
     "shell.execute_reply": "2025-05-02T13:45:48.520315Z",
     "shell.execute_reply.started": "2025-05-02T13:45:48.293419Z"
    }
   },
   "outputs": [
    {
     "data": {
      "image/png": "[encoded data removed]",
      "text/plain": [
       "<Figure size 700x500 with 2 Axes>"
      ]
     },
     "metadata": {},
     "output_type": "display_data"
    }
   ],
   "source": [
    "# Display confusion matrix\n",
    "cm = confusion_matrix(y_val, y_val_preds)\n",
    "plt.figure(figsize=(7, 5))\n",
    "sns.heatmap(cm, annot=True, fmt='d', cmap='Blues')\n",
    "plt.xlabel('Predicted')\n",
    "plt.ylabel('Truth')\n",
    "plt.title('Confusion Matrix - DenseNet121')\n",
    "plt.show()"
   ]
  },
  {
   "cell_type": "code",
   "execution_count": 27,
   "metadata": {
    "execution": {
     "iopub.execute_input": "2025-05-02T13:54:54.003286Z",
     "iopub.status.busy": "2025-05-02T13:54:54.003027Z",
     "iopub.status.idle": "2025-05-02T13:54:55.012322Z",
     "shell.execute_reply": "2025-05-02T13:54:55.011521Z",
     "shell.execute_reply.started": "2025-05-02T13:54:54.003266Z"
    }
   },
   "outputs": [
    {
     "name": "stdout",
     "output_type": "stream",
     "text": [
      "Model saved to /kaggle/working/densenet_fundus_clahe_final.h5\n"
     ]
    }
   ],
   "source": [
    "# Save Model\n",
    "densenet_hybrid_model.save('/kaggle/working/densenet_fundus_clahe_final.h5')\n",
    "print(\"Model saved to /kaggle/working/densenet_fundus_clahe_final.h5\")"
   ]
  },
  {
   "cell_type": "code",
   "execution_count": 28,
   "metadata": {
    "execution": {
     "iopub.execute_input": "2025-05-02T13:55:14.978309Z",
     "iopub.status.busy": "2025-05-02T13:55:14.977769Z",
     "iopub.status.idle": "2025-05-02T13:55:15.334758Z",
     "shell.execute_reply": "2025-05-02T13:55:15.333968Z",
     "shell.execute_reply.started": "2025-05-02T13:55:14.978285Z"
    }
   },
   "outputs": [
    {
     "name": "stdout",
     "output_type": "stream",
     "text": [
      "-rw-r--r-- 1 root root 85M May  2 13:54 /kaggle/working/densenet_fundus_clahe_final.h5\n"
     ]
    }
   ],
   "source": [
    "!ls -lh /kaggle/working/densenet_fundus_clahe_final.h5"
   ]
  },
  {
   "cell_type": "code",
   "execution_count": 29,
   "metadata": {
    "execution": {
     "iopub.execute_input": "2025-05-02T13:55:19.313680Z",
     "iopub.status.busy": "2025-05-02T13:55:19.312937Z",
     "iopub.status.idle": "2025-05-02T13:55:19.319477Z",
     "shell.execute_reply": "2025-05-02T13:55:19.318782Z",
     "shell.execute_reply.started": "2025-05-02T13:55:19.313641Z"
    }
   },
   "outputs": [
    {
     "data": {
      "text/html": [
       "<a href='/kaggle/working/densenet_fundus_clahe_final.h5' target='_blank'>/kaggle/working/densenet_fundus_clahe_final.h5</a><br>"
      ],
      "text/plain": [
       "/kaggle/working/densenet_fundus_clahe_final.h5"
      ]
     },
     "execution_count": 29,
     "metadata": {},
     "output_type": "execute_result"
    }
   ],
   "source": [
    "from IPython.display import FileLink\n",
    "FileLink('/kaggle/working/densenet_fundus_clahe_final.h5')"
   ]
  },
  {
   "cell_type": "code",
   "execution_count": null,
   "metadata": {},
   "outputs": [],
   "source": []
  }
 ],
 "metadata": {
  "kaggle": {
   "accelerator": "gpu",
   "dataSources": [
    {
     "datasetId": 7288229,
     "sourceId": 11646947,
     "sourceType": "datasetVersion"
    }
   ],
   "dockerImageVersionId": 31012,
   "isGpuEnabled": true,
   "isInternetEnabled": true,
   "language": "python",
   "sourceType": "notebook"
  },
  "kernelspec": {
   "display_name": "Python 3 (ipykernel)",
   "language": "python",
   "name": "python3"
  },
  "language_info": {
   "codemirror_mode": {
    "name": "ipython",
    "version": 3
   },
   "file_extension": ".py",
   "mimetype": "text/x-python",
   "name": "python",
   "nbconvert_exporter": "python",
   "pygments_lexer": "ipython3",
   "version": "3.11.11"
  },
  "widgets": {
   "application/vnd.jupyter.widget-state+json": {
    "state": {},
    "version_major": 2,
    "version_minor": 0
   }
  }
 },
 "nbformat": 4,
 "nbformat_minor": 4
}
